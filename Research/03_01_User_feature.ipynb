{
 "cells": [
  {
   "cell_type": "code",
   "execution_count": 1,
   "metadata": {},
   "outputs": [],
   "source": [
    "import pandas as pd\n",
    "import os"
   ]
  },
  {
   "cell_type": "code",
   "execution_count": 2,
   "metadata": {},
   "outputs": [
    {
     "data": {
      "text/plain": [
       "'c:\\\\Users\\\\surface\\\\OneDrive\\\\Desktop\\\\Instacart_Market_Analysis\\\\Instacart-Market-Analysis-Project\\\\Research'"
      ]
     },
     "execution_count": 2,
     "metadata": {},
     "output_type": "execute_result"
    }
   ],
   "source": [
    "%pwd"
   ]
  },
  {
   "cell_type": "code",
   "execution_count": 3,
   "metadata": {},
   "outputs": [],
   "source": [
    "os.chdir('../')"
   ]
  },
  {
   "cell_type": "code",
   "execution_count": 4,
   "metadata": {},
   "outputs": [
    {
     "data": {
      "text/plain": [
       "'c:\\\\Users\\\\surface\\\\OneDrive\\\\Desktop\\\\Instacart_Market_Analysis\\\\Instacart-Market-Analysis-Project'"
      ]
     },
     "execution_count": 4,
     "metadata": {},
     "output_type": "execute_result"
    }
   ],
   "source": [
    "%pwd"
   ]
  },
  {
   "cell_type": "code",
   "execution_count": 5,
   "metadata": {},
   "outputs": [],
   "source": [
    "from utils import get_user_features"
   ]
  },
  {
   "cell_type": "code",
   "execution_count": 6,
   "metadata": {},
   "outputs": [],
   "source": [
    "df_aisles = pd.read_csv(\"Instacart_Data/aisles.csv\")\n",
    "df_departments = pd.read_csv(\"Instacart_Data/departments.csv\")\n",
    "df_order_products_prior = pd.read_csv(\"Instacart_Data/order_products_prior.csv\")\n",
    "df_order_products_train = pd.read_csv(\"Instacart_Data/order_products_train.csv\")\n",
    "df_orders = pd.read_csv(\"Instacart_Data/df_orders_clean.csv\")\n",
    "df_products = pd.read_csv(\"Instacart_Data/products.csv\")"
   ]
  },
  {
   "cell_type": "code",
   "execution_count": 7,
   "metadata": {},
   "outputs": [
    {
     "name": "stderr",
     "output_type": "stream",
     "text": [
      "c:\\Users\\surface\\OneDrive\\Desktop\\Instacart_Market_Analysis\\Instacart-Market-Analysis-Project\\utils.py:31: FutureWarning: Unlike other reduction functions (e.g. `skew`, `kurtosis`), the default behavior of `mode` typically preserves the axis it acts along. In SciPy 1.11.0, this behavior will change: the default value of `keepdims` will become False, the `axis` over which the statistic is taken will be eliminated, and the value None will no longer be accepted. Set `keepdims` to True or False to avoid this warning.\n",
      "  'order_dow': lambda x: stats.mode(x)[0][0],  # Extract the mode value from mode array\n",
      "c:\\Users\\surface\\OneDrive\\Desktop\\Instacart_Market_Analysis\\Instacart-Market-Analysis-Project\\utils.py:32: FutureWarning: Unlike other reduction functions (e.g. `skew`, `kurtosis`), the default behavior of `mode` typically preserves the axis it acts along. In SciPy 1.11.0, this behavior will change: the default value of `keepdims` will become False, the `axis` over which the statistic is taken will be eliminated, and the value None will no longer be accepted. Set `keepdims` to True or False to avoid this warning.\n",
      "  'order_hour_of_day': lambda x: stats.mode(x)[0][0],  # Extract the mode value from mode array\n"
     ]
    },
    {
     "name": "stdout",
     "output_type": "stream",
     "text": [
      "   user_id  u_total_orders  u_average_days_between_orders  \\\n",
      "0        1              11                      17.181818   \n",
      "1        2              15                      15.133333   \n",
      "2        3              13                      11.000000   \n",
      "3        4               6                      14.000000   \n",
      "4        5               5                       9.000000   \n",
      "\n",
      "   u_days_between_orders_std  u_dow_most_orders  u_hod_most_orders  \\\n",
      "0                  10.476814                  4                  7   \n",
      "1                  10.855326                  1                 10   \n",
      "2                   6.096447                  0                 16   \n",
      "3                  12.263768                  4                 11   \n",
      "4                   7.314369                  0                 18   \n",
      "\n",
      "   u_total_items_bought  u_total_unique_prod u_registration_date  \\\n",
      "0                    59                   18          2017-10-04   \n",
      "1                   195                  102          2017-10-08   \n",
      "2                    88                   33          2017-10-06   \n",
      "3                    18                   17          2017-09-29   \n",
      "4                    37                   23          2017-09-28   \n",
      "\n",
      "   u_basket_sum  u_avg_basket_size  u_basket_std  \n",
      "0            59           5.900000      1.523884  \n",
      "1           195          13.928571      5.717238  \n",
      "2            88           7.333333      2.103388  \n",
      "3            18           3.600000      2.073644  \n",
      "4            37           9.250000      3.095696  \n"
     ]
    }
   ],
   "source": [
    "\n",
    "user_features = get_user_features(df_order_products_prior, df_orders)\n",
    "\n",
    "print(user_features.head())"
   ]
  },
  {
   "cell_type": "code",
   "execution_count": 8,
   "metadata": {},
   "outputs": [],
   "source": [
    "user_features.to_csv('user_features.csv', index=False)"
   ]
  }
 ],
 "metadata": {
  "kernelspec": {
   "display_name": "Python 3",
   "language": "python",
   "name": "python3"
  },
  "language_info": {
   "codemirror_mode": {
    "name": "ipython",
    "version": 3
   },
   "file_extension": ".py",
   "mimetype": "text/x-python",
   "name": "python",
   "nbconvert_exporter": "python",
   "pygments_lexer": "ipython3",
   "version": "3.11.2"
  }
 },
 "nbformat": 4,
 "nbformat_minor": 2
}
