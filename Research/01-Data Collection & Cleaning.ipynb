{
 "cells": [
  {
   "cell_type": "code",
   "execution_count": 1,
   "metadata": {},
   "outputs": [],
   "source": [
    "import pandas as pd\n",
    "import os\n",
    "import matplotlib.pyplot as plt\n",
    "import seaborn as sns"
   ]
  },
  {
   "cell_type": "code",
   "execution_count": 2,
   "metadata": {},
   "outputs": [
    {
     "data": {
      "text/plain": [
       "'c:\\\\Users\\\\surface\\\\OneDrive\\\\Desktop\\\\Instacart_Market_Analysis\\\\Instacart-Market-Analysis-Project\\\\Research'"
      ]
     },
     "execution_count": 2,
     "metadata": {},
     "output_type": "execute_result"
    }
   ],
   "source": [
    "%pwd"
   ]
  },
  {
   "cell_type": "code",
   "execution_count": 3,
   "metadata": {},
   "outputs": [],
   "source": [
    "os.chdir(\"../\")"
   ]
  },
  {
   "cell_type": "code",
   "execution_count": 4,
   "metadata": {},
   "outputs": [
    {
     "data": {
      "text/plain": [
       "'c:\\\\Users\\\\surface\\\\OneDrive\\\\Desktop\\\\Instacart_Market_Analysis\\\\Instacart-Market-Analysis-Project'"
      ]
     },
     "execution_count": 4,
     "metadata": {},
     "output_type": "execute_result"
    }
   ],
   "source": [
    "%pwd"
   ]
  },
  {
   "cell_type": "code",
   "execution_count": 5,
   "metadata": {},
   "outputs": [
    {
     "name": "stdout",
     "output_type": "stream",
     "text": [
      "DataFrame: aisles\n",
      "Shape: (134, 2)\n",
      "First few rows:\n",
      "   aisle_id                       aisle\n",
      "0         1       prepared soups salads\n",
      "1         2           specialty cheeses\n",
      "2         3         energy granola bars\n",
      "3         4               instant foods\n",
      "4         5  marinades meat preparation\n",
      "\n",
      "\n",
      "DataFrame: departments\n",
      "Shape: (21, 2)\n",
      "First few rows:\n",
      "   department_id department\n",
      "0              1     frozen\n",
      "1              2      other\n",
      "2              3     bakery\n",
      "3              4    produce\n",
      "4              5    alcohol\n",
      "\n",
      "\n",
      "DataFrame: order_products_prior\n",
      "Shape: (32434489, 4)\n",
      "First few rows:\n",
      "   order_id  product_id  add_to_cart_order  reordered\n",
      "0         2       33120                  1          1\n",
      "1         2       28985                  2          1\n",
      "2         2        9327                  3          0\n",
      "3         2       45918                  4          1\n",
      "4         2       30035                  5          0\n",
      "\n",
      "\n",
      "DataFrame: order_products_train\n",
      "Shape: (1384617, 4)\n",
      "First few rows:\n",
      "   order_id  product_id  add_to_cart_order  reordered\n",
      "0         1       49302                  1          1\n",
      "1         1       11109                  2          1\n",
      "2         1       10246                  3          0\n",
      "3         1       49683                  4          0\n",
      "4         1       43633                  5          1\n",
      "\n",
      "\n",
      "DataFrame: orders\n",
      "Shape: (3421083, 7)\n",
      "First few rows:\n",
      "   order_id  user_id eval_set  order_number  order_dow  order_hour_of_day  \\\n",
      "0   2539329        1    prior             1          2                  8   \n",
      "1   2398795        1    prior             2          3                  7   \n",
      "2    473747        1    prior             3          3                 12   \n",
      "3   2254736        1    prior             4          4                  7   \n",
      "4    431534        1    prior             5          4                 15   \n",
      "\n",
      "   days_since_prior_order  \n",
      "0                     NaN  \n",
      "1                    15.0  \n",
      "2                    21.0  \n",
      "3                    29.0  \n",
      "4                    28.0  \n",
      "\n",
      "\n",
      "DataFrame: products\n",
      "Shape: (49688, 4)\n",
      "First few rows:\n",
      "   product_id                                       product_name  aisle_id  \\\n",
      "0           1                         Chocolate Sandwich Cookies        61   \n",
      "1           2                                   All-Seasons Salt       104   \n",
      "2           3               Robust Golden Unsweetened Oolong Tea        94   \n",
      "3           4  Smart Ones Classic Favorites Mini Rigatoni Wit...        38   \n",
      "4           5                          Green Chile Anytime Sauce         5   \n",
      "\n",
      "   department_id  \n",
      "0             19  \n",
      "1             13  \n",
      "2              7  \n",
      "3              1  \n",
      "4             13  \n",
      "\n",
      "\n"
     ]
    }
   ],
   "source": [
    "folder_path = \"Instacart_Data\"\n",
    "csv_file_paths = [\n",
    "    'aisles.csv',\n",
    "    'departments.csv',\n",
    "    'order_products_prior.csv',\n",
    "    'order_products_train.csv',\n",
    "    'orders.csv',\n",
    "    'products.csv',\n",
    "]\n",
    "\n",
    "csv_file_paths = [os.path.join(folder_path, file_path) for file_path in csv_file_paths]\n",
    "\n",
    "dataframes = {}\n",
    "\n",
    "for file_path in csv_file_paths:\n",
    "    dataframe_key = os.path.splitext(os.path.basename(file_path))[0]\n",
    "    dataframe = pd.read_csv(file_path)\n",
    "    dataframes[dataframe_key] = dataframe\n",
    "\n",
    "for key, dataframe in dataframes.items():\n",
    "    print(f\"DataFrame: {key}\")\n",
    "    print(f\"Shape: {dataframe.shape}\")\n",
    "    print(\"First few rows:\")\n",
    "    print(dataframe.head())\n",
    "    print(\"\\n\")"
   ]
  },
  {
   "cell_type": "code",
   "execution_count": 6,
   "metadata": {},
   "outputs": [],
   "source": [
    "df_aisles = dataframes['aisles']\n",
    "df_departments = dataframes['departments']\n",
    "df_order_products_prior = dataframes['order_products_prior']\n",
    "df_order_products_train = dataframes['order_products_train']\n",
    "df_orders = dataframes['orders']\n",
    "df_products = dataframes['products']"
   ]
  },
  {
   "cell_type": "code",
   "execution_count": 7,
   "metadata": {},
   "outputs": [
    {
     "name": "stdout",
     "output_type": "stream",
     "text": [
      "Exploring DataFrame: aisles\n",
      "--------------------------------------------------\n",
      "Shape: (134, 2)\n",
      "Columns:\n",
      "\taisle_id\n",
      "\taisle\n",
      "Data types:\n",
      "\taisle_id: int64\n",
      "\taisle: object\n",
      "Missing values:\n",
      "\taisle_id: 0\n",
      "\taisle: 0\n",
      "\n",
      "\n",
      "Exploring DataFrame: departments\n",
      "--------------------------------------------------\n",
      "Shape: (21, 2)\n",
      "Columns:\n",
      "\tdepartment_id\n",
      "\tdepartment\n",
      "Data types:\n",
      "\tdepartment_id: int64\n",
      "\tdepartment: object\n",
      "Missing values:\n",
      "\tdepartment_id: 0\n",
      "\tdepartment: 0\n",
      "\n",
      "\n",
      "Exploring DataFrame: order_products_prior\n",
      "--------------------------------------------------\n",
      "Shape: (32434489, 4)\n",
      "Columns:\n",
      "\torder_id\n",
      "\tproduct_id\n",
      "\tadd_to_cart_order\n",
      "\treordered\n",
      "Data types:\n",
      "\torder_id: int64\n",
      "\tproduct_id: int64\n",
      "\tadd_to_cart_order: int64\n",
      "\treordered: int64\n",
      "Missing values:\n",
      "\torder_id: 0\n",
      "\tproduct_id: 0\n",
      "\tadd_to_cart_order: 0\n",
      "\treordered: 0\n",
      "\n",
      "\n",
      "Exploring DataFrame: order_products_train\n",
      "--------------------------------------------------\n",
      "Shape: (1384617, 4)\n",
      "Columns:\n",
      "\torder_id\n",
      "\tproduct_id\n",
      "\tadd_to_cart_order\n",
      "\treordered\n",
      "Data types:\n",
      "\torder_id: int64\n",
      "\tproduct_id: int64\n",
      "\tadd_to_cart_order: int64\n",
      "\treordered: int64\n",
      "Missing values:\n",
      "\torder_id: 0\n",
      "\tproduct_id: 0\n",
      "\tadd_to_cart_order: 0\n",
      "\treordered: 0\n",
      "\n",
      "\n",
      "Exploring DataFrame: orders\n",
      "--------------------------------------------------\n",
      "Shape: (3421083, 7)\n",
      "Columns:\n",
      "\torder_id\n",
      "\tuser_id\n",
      "\teval_set\n",
      "\torder_number\n",
      "\torder_dow\n",
      "\torder_hour_of_day\n",
      "\tdays_since_prior_order\n",
      "Data types:\n",
      "\torder_id: int64\n",
      "\tuser_id: int64\n",
      "\teval_set: object\n",
      "\torder_number: int64\n",
      "\torder_dow: int64\n",
      "\torder_hour_of_day: int64\n",
      "\tdays_since_prior_order: float64\n",
      "Missing values:\n",
      "\torder_id: 0\n",
      "\tuser_id: 0\n",
      "\teval_set: 0\n",
      "\torder_number: 0\n",
      "\torder_dow: 0\n",
      "\torder_hour_of_day: 0\n",
      "\tdays_since_prior_order: 206209\n",
      "\n",
      "\n",
      "Exploring DataFrame: products\n",
      "--------------------------------------------------\n",
      "Shape: (49688, 4)\n",
      "Columns:\n",
      "\tproduct_id\n",
      "\tproduct_name\n",
      "\taisle_id\n",
      "\tdepartment_id\n",
      "Data types:\n",
      "\tproduct_id: int64\n",
      "\tproduct_name: object\n",
      "\taisle_id: int64\n",
      "\tdepartment_id: int64\n",
      "Missing values:\n",
      "\tproduct_id: 0\n",
      "\tproduct_name: 0\n",
      "\taisle_id: 0\n",
      "\tdepartment_id: 0\n",
      "\n",
      "\n"
     ]
    }
   ],
   "source": [
    "for name, df in dataframes.items():\n",
    "    print(f\"Exploring DataFrame: {name}\")\n",
    "    print(\"-\" * 50)\n",
    "    print(f\"Shape: {df.shape}\")\n",
    "    print(f\"Columns:\")\n",
    "    print(\"\\t\" + \"\\n\\t\".join(df.columns))\n",
    "    print(f\"Data types:\")\n",
    "    print(\"\\t\" + \"\\n\\t\".join([f\"{col}: {dtype}\" for col, dtype in df.dtypes.items()]))\n",
    "    print(\"Missing values:\")\n",
    "    missing_values = df.isnull().sum()\n",
    "    if missing_values.empty:\n",
    "        print(\"\\tNone\")\n",
    "    else:\n",
    "        for col, count in missing_values.items():\n",
    "            print(f\"\\t{col}: {count}\")\n",
    "    print(\"\\n\")"
   ]
  },
  {
   "cell_type": "code",
   "execution_count": 8,
   "metadata": {},
   "outputs": [],
   "source": [
    "df_orders['days_since_prior_order'].fillna(-1, inplace=True)"
   ]
  },
  {
   "cell_type": "code",
   "execution_count": 9,
   "metadata": {},
   "outputs": [
    {
     "name": "stdout",
     "output_type": "stream",
     "text": [
      "   order_id  user_id eval_set  order_number  order_dow  order_hour_of_day  \\\n",
      "0   2539329        1    prior             1          2                  8   \n",
      "1   2398795        1    prior             2          3                  7   \n",
      "2    473747        1    prior             3          3                 12   \n",
      "3   2254736        1    prior             4          4                  7   \n",
      "4    431534        1    prior             5          4                 15   \n",
      "\n",
      "   days_since_prior_order  order_number_reverse  \n",
      "0                    -1.0                    99  \n",
      "1                    15.0                    98  \n",
      "2                    21.0                    97  \n",
      "3                    29.0                    96  \n",
      "4                    28.0                    95  \n"
     ]
    }
   ],
   "source": [
    "df_orders['order_number_reverse'] = df_orders['order_number'].max() - df_orders['order_number']\n",
    "print(df_orders.head())"
   ]
  },
  {
   "cell_type": "code",
   "execution_count": 10,
   "metadata": {},
   "outputs": [
    {
     "name": "stdout",
     "output_type": "stream",
     "text": [
      "   order_id  user_id eval_set  order_number  order_dow  order_hour_of_day  \\\n",
      "0   2539329        1    prior             1          2                  8   \n",
      "1   2398795        1    prior             2          3                  7   \n",
      "2    473747        1    prior             3          3                 12   \n",
      "3   2254736        1    prior             4          4                  7   \n",
      "4    431534        1    prior             5          4                 15   \n",
      "\n",
      "   days_since_prior_order  order_number_reverse       date  \n",
      "0                    -1.0                    99 2017-09-24  \n",
      "1                    15.0                    98 2017-09-25  \n",
      "2                    21.0                    97 2017-09-26  \n",
      "3                    29.0                    96 2017-09-27  \n",
      "4                    28.0                    95 2017-09-28  \n"
     ]
    }
   ],
   "source": [
    "\n",
    "# Assuming the dataset starts from January 1, 2017\n",
    "start_date = '2018-01-01'\n",
    "\n",
    "# Calculate the number of days to be added to the start date\n",
    "#  order_number_reverse to determine the number of days before the last order\n",
    "df_orders['date'] = pd.to_datetime(start_date) - pd.to_timedelta(df_orders['order_number_reverse'], unit='D')\n",
    "\n",
    "# Display the updated DataFrame\n",
    "print(df_orders.head())"
   ]
  },
  {
   "cell_type": "code",
   "execution_count": 11,
   "metadata": {},
   "outputs": [
    {
     "data": {
      "text/plain": [
       "order_id                  0\n",
       "user_id                   0\n",
       "eval_set                  0\n",
       "order_number              0\n",
       "order_dow                 0\n",
       "order_hour_of_day         0\n",
       "days_since_prior_order    0\n",
       "order_number_reverse      0\n",
       "date                      0\n",
       "dtype: int64"
      ]
     },
     "execution_count": 11,
     "metadata": {},
     "output_type": "execute_result"
    }
   ],
   "source": [
    "df_orders.isnull().sum()"
   ]
  },
  {
   "cell_type": "code",
   "execution_count": 12,
   "metadata": {},
   "outputs": [],
   "source": [
    "df_orders.to_csv('df_orders_clean.csv')"
   ]
  }
 ],
 "metadata": {
  "kernelspec": {
   "display_name": "Python 3",
   "language": "python",
   "name": "python3"
  },
  "language_info": {
   "codemirror_mode": {
    "name": "ipython",
    "version": 3
   },
   "file_extension": ".py",
   "mimetype": "text/x-python",
   "name": "python",
   "nbconvert_exporter": "python",
   "pygments_lexer": "ipython3",
   "version": "3.11.2"
  }
 },
 "nbformat": 4,
 "nbformat_minor": 2
}
