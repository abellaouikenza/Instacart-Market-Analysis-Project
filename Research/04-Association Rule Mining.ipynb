{
 "cells": [
  {
   "cell_type": "code",
   "execution_count": 12,
   "metadata": {},
   "outputs": [],
   "source": [
    "import pandas as pd\n",
    "from akapriori import apriori\n",
    "import os "
   ]
  },
  {
   "cell_type": "code",
   "execution_count": 2,
   "metadata": {},
   "outputs": [
    {
     "data": {
      "text/plain": [
       "'c:\\\\Users\\\\surface\\\\OneDrive\\\\Desktop\\\\Instacart_Market_Analysis\\\\Instacart-Market-Analysis-Project\\\\Research'"
      ]
     },
     "execution_count": 2,
     "metadata": {},
     "output_type": "execute_result"
    }
   ],
   "source": [
    "%pwd"
   ]
  },
  {
   "cell_type": "code",
   "execution_count": 3,
   "metadata": {},
   "outputs": [],
   "source": [
    "os.chdir('../')"
   ]
  },
  {
   "cell_type": "code",
   "execution_count": 4,
   "metadata": {},
   "outputs": [
    {
     "data": {
      "text/plain": [
       "'c:\\\\Users\\\\surface\\\\OneDrive\\\\Desktop\\\\Instacart_Market_Analysis\\\\Instacart-Market-Analysis-Project'"
      ]
     },
     "execution_count": 4,
     "metadata": {},
     "output_type": "execute_result"
    }
   ],
   "source": [
    "%pwd"
   ]
  },
  {
   "cell_type": "code",
   "execution_count": 6,
   "metadata": {},
   "outputs": [],
   "source": [
    "order_products_prior_df=pd.read_csv('Instacart_Data/order_products_prior.csv')\n",
    "products_df=pd.read_csv('Instacart_Data/products.csv')"
   ]
  },
  {
   "cell_type": "code",
   "execution_count": 8,
   "metadata": {},
   "outputs": [
    {
     "name": "stdout",
     "output_type": "stream",
     "text": [
      "   order_id                                       product_name\n",
      "0         2  [Organic Egg Whites, Michigan Organic Kale, Ga...\n",
      "1         3  [Total 2% with Strawberry Lowfat Greek Straine...\n",
      "2         4  [Plain Pre-Sliced Bagels, Honey/Lemon Cough Dr...\n",
      "3         5  [Bag of Organic Bananas, Just Crisp, Parmesan,...\n",
      "4         6  [Cleanse, Dryer Sheets Geranium Scent, Clean D...\n"
     ]
    }
   ],
   "source": [
    "merged_df = pd.merge(order_products_prior_df, products_df, on='product_id', how='inner')\n",
    "\n",
    "# Group products by order_id and aggregate into a list\n",
    "grouped_df = merged_df.groupby('order_id')['product_name'].apply(list).reset_index()\n",
    "\n",
    "print(grouped_df.head())"
   ]
  },
  {
   "cell_type": "code",
   "execution_count": 14,
   "metadata": {},
   "outputs": [
    {
     "name": "stdout",
     "output_type": "stream",
     "text": [
      "(frozenset({'Organic Strawberries'}), frozenset({'Bag of Organic Bananas'}), 0.019169647084147, 0.23283701635541385, 1.9727017264951765)\n",
      "(frozenset({'Organic Raspberries'}), frozenset({'Organic Strawberries'}), 0.01053322774080726, 0.24707238594161554, 3.0009732007029744)\n",
      "(frozenset({'Organic Strawberries'}), frozenset({'Banana'}), 0.017467558604163026, 0.21216322922137046, 1.4433528707793088)\n",
      "(frozenset({'Strawberries'}), frozenset({'Banana'}), 0.012825386002686264, 0.28843449853446285, 1.9622286247214302)\n",
      "(frozenset({'Organic Raspberries'}), frozenset({'Bag of Organic Bananas'}), 0.012598627504530504, 0.29551938244671927, 2.503775409471641)\n",
      "(frozenset({'Large Lemon'}), frozenset({'Banana'}), 0.01271589493087443, 0.26778988189208486, 1.8217826727708029)\n",
      "(frozenset({'Organic Baby Spinach'}), frozenset({'Banana'}), 0.015986629647071704, 0.21244538506371916, 1.4452723855159375)\n",
      "(frozenset({'Organic Avocado'}), frozenset({'Banana'}), 0.016608738009638947, 0.301982297881967, 2.054394713787502)\n",
      "(frozenset({'Organic Fuji Apple'}), frozenset({'Banana'}), 0.01055811207530995, 0.3786928775437344, 2.5762591093300085)\n",
      "(frozenset({'Organic Hass Avocado'}), frozenset({'Bag of Organic Bananas'}), 0.019391428715402222, 0.29188047793842237, 2.4729449456629533)\n",
      "(frozenset({'Organic Baby Spinach'}), frozenset({'Bag of Organic Bananas'}), 0.01566842121961856, 0.20821673190835024, 1.7641074127740823)\n"
     ]
    }
   ],
   "source": [
    "\n",
    "min_support = 0.01 \n",
    "min_confidence = 0.2  \n",
    "# Generate apriori association rules\n",
    "rules = apriori(grouped_df['product_name'], support=min_support, confidence=min_confidence)\n",
    "\n",
    "# Print the association rules\n",
    "for rule in rules:\n",
    "    print(rule)"
   ]
  },
  {
   "cell_type": "markdown",
   "metadata": {},
   "source": [
    "# Rule 9: Organic Fuji Apple -> Banana\n",
    "\n",
    "Support: 1.06%\n",
    "Confidence: 37.9%\n",
    "Lift: 2.576\n",
    "Percentage of Orders: 1.06%\n",
    "# Rule 4: Strawberries -> Banana\n",
    "\n",
    "Support: 1.28%\n",
    "Confidence: 28.8%\n",
    "Lift: 1.962\n",
    "Percentage of Orders: 1.28%\n",
    "# Rule 1: Organic Strawberries -> Bag of Organic Bananas\n",
    "\n",
    "Support: 1.92%\n",
    "Confidence: 23.3%\n",
    "Lift: 1.973\n",
    "Percentage of Orders: 1.92%\n",
    "# Rule 5: Organic Raspberries -> Bag of Organic Bananas\n",
    "\n",
    "Support: 1.26%\n",
    "Confidence: 29.6%\n",
    "Lift: 2.504\n",
    "Percentage of Orders: 1.26%\n",
    "# Rule 10: Organic Hass Avocado -> Bag of Organic Bananas\n",
    "\n",
    "Support: 1.94%\n",
    "Confidence: 29.2%\n",
    "Lift: 2.473\n",
    "Percentage of Orders: 1.94%\n",
    "# Rule 2: Organic Raspberries -> Organic Strawberries\n",
    "\n",
    "Support: 1.05%\n",
    "Confidence: 24.7%\n",
    "Lift: 3.001\n",
    "Percentage of Orders: 1.05%\n",
    "# Rule 6: Large Lemon -> Banana\n",
    "\n",
    "Support: 1.27%\n",
    "Confidence: 26.8%\n",
    "Lift: 1.822\n",
    "Percentage of Orders: 1.27%\n",
    "# Rule 7: Organic Baby Spinach -> Banana\n",
    "\n",
    "Support: 1.60%\n",
    "Confidence: 21.2%\n",
    "Lift: 1.445\n",
    "Percentage of Orders: 1.60%\n",
    "# Rule 3: Organic Strawberries -> Banana\n",
    "\n",
    "Support: 1.75%\n",
    "Confidence: 21.2%\n",
    "Lift: 1.443\n",
    "Percentage of Orders: 1.75%\n",
    "# Rule 8: Organic Avocado -> Banana\n",
    "\n",
    "Support: 1.66%\n",
    "Confidence: 30.2%\n",
    "Lift: 2.054\n",
    "Percentage of Orders: 1.66%"
   ]
  }
 ],
 "metadata": {
  "kernelspec": {
   "display_name": "Python 3",
   "language": "python",
   "name": "python3"
  },
  "language_info": {
   "codemirror_mode": {
    "name": "ipython",
    "version": 3
   },
   "file_extension": ".py",
   "mimetype": "text/x-python",
   "name": "python",
   "nbconvert_exporter": "python",
   "pygments_lexer": "ipython3",
   "version": "3.11.2"
  }
 },
 "nbformat": 4,
 "nbformat_minor": 2
}
